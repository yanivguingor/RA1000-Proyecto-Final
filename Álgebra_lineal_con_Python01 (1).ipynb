{
  "nbformat": 4,
  "nbformat_minor": 0,
  "metadata": {
    "colab": {
      "provenance": []
    },
    "kernelspec": {
      "name": "python3",
      "display_name": "Python 3"
    },
    "language_info": {
      "name": "python"
    }
  },
  "cells": [
    {
      "cell_type": "markdown",
      "source": [
        "Hay funciones (built-in) dentro de Phyton:\n",
        "\n",
        "\n",
        "\n",
        "*   +,-,*,$**$, etcétera.\n",
        "* `type`(contesta a la pregunta: ¿Qué tipo de objeto estás representando). `print`(imprimir objetos, es decir leer código).\n",
        "\n"
      ],
      "metadata": {
        "id": "Ev_2ww8thhnp"
      }
    },
    {
      "cell_type": "markdown",
      "source": [
        "# Introducción a Python\n",
        "\n",
        "1. Objetos: números, strings, listas, arreglos (vectores y/o matrices), diccionarios (crear bases de datos), DataFrames.\n",
        "2. Atributos de objetos."
      ],
      "metadata": {
        "id": "H90EvVA2fNSf"
      }
    },
    {
      "cell_type": "code",
      "source": [
        "5+2,5-2,5*2,5**2"
      ],
      "metadata": {
        "colab": {
          "base_uri": "https://localhost:8080/"
        },
        "id": "tNPOVW5Yjb8f",
        "outputId": "30025ae6-f33b-4bfb-85b6-557e5445d709"
      },
      "execution_count": null,
      "outputs": [
        {
          "output_type": "execute_result",
          "data": {
            "text/plain": [
              "(7, 3, 10, 25)"
            ]
          },
          "metadata": {},
          "execution_count": 1
        }
      ]
    },
    {
      "cell_type": "code",
      "source": [
        "print(5+2)\n",
        "print(5-2)\n",
        "print(5*2)\n",
        "print(5**2)"
      ],
      "metadata": {
        "colab": {
          "base_uri": "https://localhost:8080/"
        },
        "id": "lgVOtl1Kj5Vs",
        "outputId": "562056ab-3db6-4ad5-d108-12d5db2ea65c"
      },
      "execution_count": null,
      "outputs": [
        {
          "output_type": "stream",
          "name": "stdout",
          "text": [
            "7\n",
            "3\n",
            "10\n",
            "25\n"
          ]
        }
      ]
    },
    {
      "cell_type": "code",
      "source": [
        "\"Hola Mundo\""
      ],
      "metadata": {
        "colab": {
          "base_uri": "https://localhost:8080/",
          "height": 35
        },
        "id": "dV5E6OERkEFO",
        "outputId": "b1a09341-1ad4-4534-ed26-dee044bbcdf5"
      },
      "execution_count": null,
      "outputs": [
        {
          "output_type": "execute_result",
          "data": {
            "text/plain": [
              "'Hola Mundo'"
            ],
            "application/vnd.google.colaboratory.intrinsic+json": {
              "type": "string"
            }
          },
          "metadata": {},
          "execution_count": 3
        }
      ]
    },
    {
      "cell_type": "code",
      "source": [
        "type(\"Hola Mundo!\")"
      ],
      "metadata": {
        "colab": {
          "base_uri": "https://localhost:8080/"
        },
        "id": "TZUsxWXwkz8g",
        "outputId": "a4fbe1de-728b-4b86-d478-4d667713f57c"
      },
      "execution_count": null,
      "outputs": [
        {
          "output_type": "execute_result",
          "data": {
            "text/plain": [
              "str"
            ]
          },
          "metadata": {},
          "execution_count": 4
        }
      ]
    },
    {
      "cell_type": "code",
      "source": [
        "type(1.1416)"
      ],
      "metadata": {
        "colab": {
          "base_uri": "https://localhost:8080/"
        },
        "id": "tdBJVYvYk_vd",
        "outputId": "cea6e77f-0c2a-4507-c009-52c41e1857d9"
      },
      "execution_count": null,
      "outputs": [
        {
          "output_type": "execute_result",
          "data": {
            "text/plain": [
              "float"
            ]
          },
          "metadata": {},
          "execution_count": 5
        }
      ]
    },
    {
      "cell_type": "markdown",
      "source": [
        "Una variable es una forma de nombrar y guardar un objeto."
      ],
      "metadata": {
        "id": "G25O_iwKmKlL"
      }
    },
    {
      "cell_type": "code",
      "source": [
        "# Creando dos varibales que son int\n",
        "x=1.98\n",
        "y=0.32"
      ],
      "metadata": {
        "id": "Yf-XsldrmkkS"
      },
      "execution_count": null,
      "outputs": []
    },
    {
      "cell_type": "code",
      "source": [
        "# De esta forma, podemos realizar las operaciones antes dadas\n",
        "print(f\"Las operaciones son: {x+y},{x-y},{x*y},{x**y}\")"
      ],
      "metadata": {
        "colab": {
          "base_uri": "https://localhost:8080/"
        },
        "id": "mjHvVbZZmry-",
        "outputId": "f87badc6-cbab-4935-eee0-731c3717d894"
      },
      "execution_count": null,
      "outputs": [
        {
          "output_type": "stream",
          "name": "stdout",
          "text": [
            "Las operaciones son: 2.3,1.66,0.6336,1.2443222327371004\n"
          ]
        }
      ]
    },
    {
      "cell_type": "code",
      "source": [
        "type(2),type(2.0), type(\"2\") # La función type(obj) nos dice el tipo de objeto con el que se está trabajando"
      ],
      "metadata": {
        "colab": {
          "base_uri": "https://localhost:8080/"
        },
        "id": "2NRld2F0NxqB",
        "outputId": "df02eee8-773d-43a6-8dff-9b0051dae044"
      },
      "execution_count": null,
      "outputs": [
        {
          "output_type": "execute_result",
          "data": {
            "text/plain": [
              "(int, float, str)"
            ]
          },
          "metadata": {},
          "execution_count": 8
        }
      ]
    },
    {
      "cell_type": "markdown",
      "source": [
        "### nombre = texto\n",
        "\n",
        "#### Debug: print(variable)"
      ],
      "metadata": {
        "id": "1yxOwu4TQFDD"
      }
    },
    {
      "cell_type": "code",
      "source": [
        "variable = \"Hola\"\n",
        "x=5\n",
        "Cesar = {1,2,\"perro\"}"
      ],
      "metadata": {
        "id": "P_nvlmrsQPQV"
      },
      "execution_count": null,
      "outputs": []
    },
    {
      "cell_type": "code",
      "source": [
        "print(variable)\n",
        "print(x)"
      ],
      "metadata": {
        "colab": {
          "base_uri": "https://localhost:8080/"
        },
        "id": "t9P6tearQ8GZ",
        "outputId": "7d1c233b-bfef-4159-c527-491fd87dcf49"
      },
      "execution_count": null,
      "outputs": [
        {
          "output_type": "stream",
          "name": "stdout",
          "text": [
            "Hola\n",
            "5\n"
          ]
        }
      ]
    }
  ]
}