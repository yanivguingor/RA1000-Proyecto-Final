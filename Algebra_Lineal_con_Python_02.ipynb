{
  "nbformat": 4,
  "nbformat_minor": 0,
  "metadata": {
    "colab": {
      "provenance": []
    },
    "kernelspec": {
      "name": "python3",
      "display_name": "Python 3"
    },
    "language_info": {
      "name": "python"
    }
  },
  "cells": [
    {
      "cell_type": "code",
      "source": [
        "import numpy as np"
      ],
      "metadata": {
        "id": "gjkj35SkbYsw"
      },
      "execution_count": null,
      "outputs": []
    },
    {
      "cell_type": "markdown",
      "source": [
        "Código para realizar operaciones elementales por renglones."
      ],
      "metadata": {
        "id": "aVat4r10bYKS"
      }
    },
    {
      "cell_type": "code",
      "source": [
        "5**2"
      ],
      "metadata": {
        "colab": {
          "base_uri": "https://localhost:8080/"
        },
        "id": "RM6TtCJidpl8",
        "outputId": "20c8b88d-3913-412b-fd18-0b181ca1b6ee"
      },
      "execution_count": null,
      "outputs": [
        {
          "output_type": "execute_result",
          "data": {
            "text/plain": [
              "25"
            ]
          },
          "metadata": {},
          "execution_count": 2
        }
      ]
    },
    {
      "cell_type": "code",
      "source": [
        "def Vale(x,n):\n",
        "  y = x**n\n",
        "  return y"
      ],
      "metadata": {
        "id": "K6VRyK_6dLuj"
      },
      "execution_count": null,
      "outputs": []
    },
    {
      "cell_type": "code",
      "source": [
        "Vale(9.2,3)"
      ],
      "metadata": {
        "colab": {
          "base_uri": "https://localhost:8080/"
        },
        "id": "kA0STS2pdzYN",
        "outputId": "b8b194a6-5bd0-4e47-c7cf-90b1ece32a75"
      },
      "execution_count": null,
      "outputs": [
        {
          "output_type": "execute_result",
          "data": {
            "text/plain": [
              "778.6879999999999"
            ]
          },
          "metadata": {},
          "execution_count": 9
        }
      ]
    },
    {
      "cell_type": "code",
      "source": [
        "6 % 2"
      ],
      "metadata": {
        "colab": {
          "base_uri": "https://localhost:8080/"
        },
        "id": "U-y9P3uKe219",
        "outputId": "59dd7da6-f867-4628-f587-4c144adcf409"
      },
      "execution_count": null,
      "outputs": [
        {
          "output_type": "execute_result",
          "data": {
            "text/plain": [
              "0"
            ]
          },
          "metadata": {},
          "execution_count": 14
        }
      ]
    },
    {
      "cell_type": "code",
      "source": [
        "# loops ciclos\n",
        "indice = [1, 2, 3, 4, 5]\n",
        "\n",
        "pares = [x for x in indice if x%2==0]\n",
        "\n",
        "pares"
      ],
      "metadata": {
        "colab": {
          "base_uri": "https://localhost:8080/"
        },
        "id": "ofFpDKnleSrx",
        "outputId": "3467bc8b-c183-4974-c3c1-a948f94a6ac3"
      },
      "execution_count": null,
      "outputs": [
        {
          "output_type": "execute_result",
          "data": {
            "text/plain": [
              "[2, 4]"
            ]
          },
          "metadata": {},
          "execution_count": 15
        }
      ]
    },
    {
      "cell_type": "code",
      "source": [
        "[x for x in range(1,6)]"
      ],
      "metadata": {
        "colab": {
          "base_uri": "https://localhost:8080/"
        },
        "id": "56SJWrTbnI_2",
        "outputId": "b72559f1-17ad-4a18-d9f5-207e55695026"
      },
      "execution_count": null,
      "outputs": [
        {
          "output_type": "execute_result",
          "data": {
            "text/plain": [
              "[1, 2, 3, 4, 5]"
            ]
          },
          "metadata": {},
          "execution_count": 19
        }
      ]
    },
    {
      "cell_type": "markdown",
      "source": [
        "### Coefientes de una matriz: acceso en numpy"
      ],
      "metadata": {
        "id": "It9SUmJJpXry"
      }
    },
    {
      "cell_type": "code",
      "source": [
        "A = np.array([[2, 1, 0.5], [1, 0 ,0 ], [2, 1, 0], [5, -1, 3] ] )\n",
        "\n",
        "A"
      ],
      "metadata": {
        "colab": {
          "base_uri": "https://localhost:8080/"
        },
        "id": "axuu8RuMpegy",
        "outputId": "d2ed3c6f-9a21-4a34-efef-d675636c15a6"
      },
      "execution_count": null,
      "outputs": [
        {
          "output_type": "execute_result",
          "data": {
            "text/plain": [
              "array([[ 2. ,  1. ,  0.5],\n",
              "       [ 1. ,  0. ,  0. ],\n",
              "       [ 2. ,  1. ,  0. ],\n",
              "       [ 5. , -1. ,  3. ]])"
            ]
          },
          "metadata": {},
          "execution_count": 22
        }
      ]
    },
    {
      "cell_type": "code",
      "source": [
        "A.shape"
      ],
      "metadata": {
        "colab": {
          "base_uri": "https://localhost:8080/"
        },
        "id": "iF9J2Ug0pw8v",
        "outputId": "501fa262-0632-422c-b207-e8722d9cf7cf"
      },
      "execution_count": null,
      "outputs": [
        {
          "output_type": "execute_result",
          "data": {
            "text/plain": [
              "(4, 3)"
            ]
          },
          "metadata": {},
          "execution_count": 23
        }
      ]
    },
    {
      "cell_type": "code",
      "source": [
        "indice"
      ],
      "metadata": {
        "colab": {
          "base_uri": "https://localhost:8080/"
        },
        "id": "EoyQrKyRqE0S",
        "outputId": "69767be6-3121-46f5-e4f1-a4df8cbbada1"
      },
      "execution_count": null,
      "outputs": [
        {
          "output_type": "execute_result",
          "data": {
            "text/plain": [
              "[1, 2, 3, 4, 5]"
            ]
          },
          "metadata": {},
          "execution_count": 24
        }
      ]
    },
    {
      "cell_type": "code",
      "source": [
        "# La indexación en Python comienza en 0\n",
        "\n",
        "print(indice[0])\n",
        "print(indice[4])"
      ],
      "metadata": {
        "colab": {
          "base_uri": "https://localhost:8080/"
        },
        "id": "FzQ0uQKEqK7Y",
        "outputId": "0e7c080e-5368-43e6-9edd-2893100b6e0d"
      },
      "execution_count": null,
      "outputs": [
        {
          "output_type": "stream",
          "name": "stdout",
          "text": [
            "1\n",
            "5\n"
          ]
        }
      ]
    },
    {
      "cell_type": "code",
      "source": [
        "A.shape[0] # número de columnas de la matriz A"
      ],
      "metadata": {
        "colab": {
          "base_uri": "https://localhost:8080/"
        },
        "id": "T89FbIj_ql66",
        "outputId": "de05c8ed-1a21-43c4-c579-2df0111798e8"
      },
      "execution_count": null,
      "outputs": [
        {
          "output_type": "execute_result",
          "data": {
            "text/plain": [
              "4"
            ]
          },
          "metadata": {},
          "execution_count": 28
        }
      ]
    },
    {
      "cell_type": "code",
      "source": [
        "A.shape[1] # número de renglones de la matriz A"
      ],
      "metadata": {
        "colab": {
          "base_uri": "https://localhost:8080/"
        },
        "id": "8fd495yCqzX3",
        "outputId": "1d04cc41-b29d-4ada-9198-d6388ce0ace7"
      },
      "execution_count": null,
      "outputs": [
        {
          "output_type": "execute_result",
          "data": {
            "text/plain": [
              "3"
            ]
          },
          "metadata": {},
          "execution_count": 29
        }
      ]
    },
    {
      "cell_type": "code",
      "source": [
        "A"
      ],
      "metadata": {
        "colab": {
          "base_uri": "https://localhost:8080/"
        },
        "id": "D9kfUXOlq5s2",
        "outputId": "87db7256-f325-4c77-c6f1-99cea45b282d"
      },
      "execution_count": null,
      "outputs": [
        {
          "output_type": "execute_result",
          "data": {
            "text/plain": [
              "array([[ 2. ,  1. ,  0.5],\n",
              "       [ 1. ,  0. ,  0. ],\n",
              "       [ 2. ,  1. ,  0. ],\n",
              "       [ 5. , -1. ,  3. ]])"
            ]
          },
          "metadata": {},
          "execution_count": 30
        }
      ]
    },
    {
      "cell_type": "code",
      "source": [
        "A[0] # primer renglón"
      ],
      "metadata": {
        "colab": {
          "base_uri": "https://localhost:8080/"
        },
        "id": "PlNhCE2Bq93t",
        "outputId": "eeddb0d8-4640-48d1-9bf9-6c55ccc13c68"
      },
      "execution_count": null,
      "outputs": [
        {
          "output_type": "execute_result",
          "data": {
            "text/plain": [
              "array([2. , 1. , 0.5])"
            ]
          },
          "metadata": {},
          "execution_count": 31
        }
      ]
    },
    {
      "cell_type": "code",
      "source": [
        "A[3][1]"
      ],
      "metadata": {
        "colab": {
          "base_uri": "https://localhost:8080/"
        },
        "id": "Lm7rQAuprNq5",
        "outputId": "fb658471-4c8a-4c56-beeb-42cc15b3033e"
      },
      "execution_count": null,
      "outputs": [
        {
          "output_type": "execute_result",
          "data": {
            "text/plain": [
              "-1.0"
            ]
          },
          "metadata": {},
          "execution_count": 34
        }
      ]
    },
    {
      "cell_type": "code",
      "source": [
        "B = np.copy(A)\n",
        "B"
      ],
      "metadata": {
        "colab": {
          "base_uri": "https://localhost:8080/"
        },
        "id": "LfxLEjc7sQi5",
        "outputId": "723c27ef-300a-4832-ee40-9c6c9851aa69"
      },
      "execution_count": null,
      "outputs": [
        {
          "output_type": "execute_result",
          "data": {
            "text/plain": [
              "array([[ 2. ,  1. ,  0.5],\n",
              "       [ 1. ,  0. ,  0. ],\n",
              "       [ 2. ,  1. ,  0. ],\n",
              "       [ 5. , -1. ,  3. ]])"
            ]
          },
          "metadata": {},
          "execution_count": 35
        }
      ]
    },
    {
      "cell_type": "code",
      "source": [
        "def RowSwap(A,k,l):\n",
        "# =============================================================================\n",
        "#     A  NumPy array.  RowSwap devolverá una matriz duplicada con filas\n",
        "# k y l intercambiados.\n",
        "# =============================================================================\n",
        "    m = A.shape[0]  # m renglones\n",
        "    n = A.shape[1]  # n columnas\n",
        "\n",
        "    B = np.copy(A).astype('float64')\n",
        "\n",
        "    for j in range(n):\n",
        "        temp = B[k][j]\n",
        "        B[k][j] = B[l][j]\n",
        "        B[l][j] = temp\n",
        "\n",
        "    return B\n",
        "\n",
        "def RowScale(A,k,scale):\n",
        "# =============================================================================\n",
        "#     A NumPy array.  RowScale devolverá una matriz duplicada con el\n",
        "# entradas de la fila k multiplicadas por escala..\n",
        "# =============================================================================\n",
        "    m = A.shape[0]  # m renglones\n",
        "    n = A.shape[1]  # n columnas\n",
        "\n",
        "    B = np.copy(A).astype('float64')\n",
        "\n",
        "    for j in range(n):\n",
        "        B[k][j] *= scale\n",
        "\n",
        "    return B\n",
        "\n",
        "def RowAdd(A,k,l,scale):\n",
        "# =============================================================================\n",
        "#     A numpy array.  RowAdd devolverá matriz duplicada con fila\n",
        "# l modificado. Los nuevos valores serán los valores antiguos de la fila l agregados a\n",
        "# los valores de la fila k, multiplicados por la escala.\n",
        "# =============================================================================\n",
        "    m = A.shape[0]  # m renglones\n",
        "    n = A.shape[1]  # n columnas\n",
        "\n",
        "    B = np.copy(A).astype('float64')\n",
        "\n",
        "    for j in range(n):\n",
        "        B[l][j] += B[k][j]*scale\n",
        "\n",
        "    return B\n",
        ""
      ],
      "metadata": {
        "id": "J01kv_5YOK7L"
      },
      "execution_count": null,
      "outputs": []
    },
    {
      "cell_type": "code",
      "source": [
        "A"
      ],
      "metadata": {
        "colab": {
          "base_uri": "https://localhost:8080/"
        },
        "id": "6hr4n_HCu7eO",
        "outputId": "26600ad6-1c16-4bfe-f1da-cacff2b6880d"
      },
      "execution_count": null,
      "outputs": [
        {
          "output_type": "execute_result",
          "data": {
            "text/plain": [
              "array([[ 2. ,  1. ,  0.5],\n",
              "       [ 1. ,  0. ,  0. ],\n",
              "       [ 2. ,  1. ,  0. ],\n",
              "       [ 5. , -1. ,  3. ]])"
            ]
          },
          "metadata": {},
          "execution_count": 37
        }
      ]
    },
    {
      "cell_type": "code",
      "source": [
        "RowSwap(A,0,1)"
      ],
      "metadata": {
        "colab": {
          "base_uri": "https://localhost:8080/"
        },
        "id": "91b9_xF_vFj4",
        "outputId": "426eb62c-8f93-431e-9bff-209dafbcdf91"
      },
      "execution_count": null,
      "outputs": [
        {
          "output_type": "execute_result",
          "data": {
            "text/plain": [
              "array([[ 1. ,  0. ,  0. ],\n",
              "       [ 2. ,  1. ,  0.5],\n",
              "       [ 2. ,  1. ,  0. ],\n",
              "       [ 5. , -1. ,  3. ]])"
            ]
          },
          "metadata": {},
          "execution_count": 38
        }
      ]
    },
    {
      "cell_type": "code",
      "source": [
        "RowScale(A, 0, 0.5)"
      ],
      "metadata": {
        "colab": {
          "base_uri": "https://localhost:8080/"
        },
        "id": "w3H1hvsqvfUC",
        "outputId": "7ebe0a17-3207-424d-c80c-cdef2639540e"
      },
      "execution_count": null,
      "outputs": [
        {
          "output_type": "execute_result",
          "data": {
            "text/plain": [
              "array([[ 1.  ,  0.5 ,  0.25],\n",
              "       [ 1.  ,  0.  ,  0.  ],\n",
              "       [ 2.  ,  1.  ,  0.  ],\n",
              "       [ 5.  , -1.  ,  3.  ]])"
            ]
          },
          "metadata": {},
          "execution_count": 39
        }
      ]
    },
    {
      "cell_type": "code",
      "source": [
        "A"
      ],
      "metadata": {
        "colab": {
          "base_uri": "https://localhost:8080/"
        },
        "id": "NB9OLtbhwCll",
        "outputId": "9a2a0e67-6394-4f18-b8b1-7bbc59ae375f"
      },
      "execution_count": null,
      "outputs": [
        {
          "output_type": "execute_result",
          "data": {
            "text/plain": [
              "array([[ 2. ,  1. ,  0.5],\n",
              "       [ 1. ,  0. ,  0. ],\n",
              "       [ 2. ,  1. ,  0. ],\n",
              "       [ 5. , -1. ,  3. ]])"
            ]
          },
          "metadata": {},
          "execution_count": 41
        }
      ]
    },
    {
      "cell_type": "code",
      "source": [
        "RowAdd(A, 0, 1, 2)"
      ],
      "metadata": {
        "colab": {
          "base_uri": "https://localhost:8080/"
        },
        "id": "_Tg0axGqvv6x",
        "outputId": "2be38f21-cf17-4f51-d53a-4e861cef302a"
      },
      "execution_count": null,
      "outputs": [
        {
          "output_type": "execute_result",
          "data": {
            "text/plain": [
              "array([[ 2. ,  1. ,  0.5],\n",
              "       [ 5. ,  2. ,  1. ],\n",
              "       [ 2. ,  1. ,  0. ],\n",
              "       [ 5. , -1. ,  3. ]])"
            ]
          },
          "metadata": {},
          "execution_count": 42
        }
      ]
    }
  ]
}