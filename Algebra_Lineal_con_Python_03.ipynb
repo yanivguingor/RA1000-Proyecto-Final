{
  "nbformat": 4,
  "nbformat_minor": 0,
  "metadata": {
    "colab": {
      "provenance": []
    },
    "kernelspec": {
      "name": "python3",
      "display_name": "Python 3"
    },
    "language_info": {
      "name": "python"
    }
  },
  "cells": [
    {
      "cell_type": "markdown",
      "source": [
        "# Álgebra Lineal con Python\n",
        "\n",
        "Recordemos que si damos $n\\times m$ números reales, entonces podemos crear un arreglo (una matriz):\n",
        "$$A_{m\\times n}=\\begin{bmatrix}\n",
        "a_{11} & a_{12} & \\cdots & a_{1n} \\\\\n",
        "a_{21} & a_{22} & \\cdots & a_{2n} \\\\\n",
        "\\vdots & \\vdots & \\ddots & \\vdots \\\\\n",
        "a_{m1} & a_{m2} & \\cdots & a_{mn}\n",
        "\\end{bmatrix}$$\n",
        "\n",
        "y al conjunto de matrices con coeficientes en $\\mathbb{R}$ lo denotamos $\\text{Mat}_{m\\times n}(\\mathbb{R})$.\n"
      ],
      "metadata": {
        "id": "MXfDgHr3RAt7"
      }
    },
    {
      "cell_type": "code",
      "source": [
        "type(2), type(2.0), type(\"2\") # La función type(obj) nos dice el tipo de objeto con el que se está trabajando."
      ],
      "metadata": {
        "colab": {
          "base_uri": "https://localhost:8080/"
        },
        "id": "rrsH4dA7SLmP",
        "outputId": "757c1ecd-28c0-4326-9577-3b0b284d94e9"
      },
      "execution_count": 1,
      "outputs": [
        {
          "output_type": "execute_result",
          "data": {
            "text/plain": [
              "(int, float, str)"
            ]
          },
          "metadata": {},
          "execution_count": 1
        }
      ]
    },
    {
      "cell_type": "markdown",
      "source": [
        "### Variables\n",
        "$$\\text{nombre} = \\text{objeto}$$\n",
        "\n",
        "Debug: $\\text{print(variable)}$"
      ],
      "metadata": {
        "id": "F_m9B2_BdbEM"
      }
    },
    {
      "cell_type": "markdown",
      "source": [
        "1. Suma de matrices\n",
        "\n",
        "$$\\begin{pmatrix} a_{11} & a_{12} & \\cdots & a_{1n} \\\\ a_{21} & a_{22} & \\cdots & a_{2n} \\\\ \\vdots & \\vdots & \\ddots & \\vdots \\\\ a_{m1} & a_{m2} & \\cdots & a_{mn} \\end{pmatrix} + \\begin{pmatrix} b_{11} & b_{12} & \\cdots & b_{1n} \\\\ b_{21} & b_{22} & \\cdots & b_{2n} \\\\ \\vdots & \\vdots & \\ddots & \\vdots \\\\ b_{m1} & b_{m2} & \\cdots & b_{mn} \\end{pmatrix} = \\begin{pmatrix} a_{11} + b_{11} & a_{12} + b_{12} & \\cdots & a_{1n} + b_{1n} \\\\ a_{21} + b_{21} & a_{22} + b_{22} & \\cdots & a_{2n} + b_{2n} \\\\ \\vdots & \\vdots & \\ddots & \\vdots \\\\ a_{m1} + b_{m1} & a_{m2} + b_{m2} & \\cdots & a_{mn} + b_{mn} \\end{pmatrix}$$\n",
        "\n",
        "2. Multiplicación de matrices\n",
        "\n",
        "$$\\begin{pmatrix} a_{11} & a_{12} \\\\ a_{21} & a_{22} \\end{pmatrix} \\times \\begin{pmatrix} b_{11} & b_{12} \\\\ b_{21} & b_{22} \\end{pmatrix} = \\begin{pmatrix} a_{11}b_{11} + a_{12}b_{21} & a_{11}b_{12} + a_{12}b_{22} \\\\ a_{21}b_{11} + a_{22}b_{21} & a_{21}b_{12} + a_{22}b_{22} \\end{pmatrix} $$"
      ],
      "metadata": {
        "id": "j8u-P7h72XGv"
      }
    },
    {
      "cell_type": "code",
      "source": [
        "variable = \"Hola\"\n",
        "\n",
        "x = 5\n",
        "\n",
        "Cesar = {1, 2, \"perro\"}\n",
        "\n",
        "print(variable)\n",
        "\n",
        "print(x)\n"
      ],
      "metadata": {
        "colab": {
          "base_uri": "https://localhost:8080/"
        },
        "id": "dz_gBPd5do6U",
        "outputId": "09aa58f6-608f-4901-86c6-eabf40d4be71"
      },
      "execution_count": 2,
      "outputs": [
        {
          "output_type": "stream",
          "name": "stdout",
          "text": [
            "Hola\n",
            "5\n"
          ]
        }
      ]
    },
    {
      "cell_type": "code",
      "source": [
        "variable + str(x)"
      ],
      "metadata": {
        "colab": {
          "base_uri": "https://localhost:8080/",
          "height": 35
        },
        "id": "xhVqoFuIfMK8",
        "outputId": "c8fb950c-b639-4374-a089-f91ddb6e2a44"
      },
      "execution_count": 3,
      "outputs": [
        {
          "output_type": "execute_result",
          "data": {
            "text/plain": [
              "'Hola5'"
            ],
            "application/vnd.google.colaboratory.intrinsic+json": {
              "type": "string"
            }
          },
          "metadata": {},
          "execution_count": 3
        }
      ]
    },
    {
      "cell_type": "markdown",
      "source": [
        "### Listas\n",
        "\n",
        "$L=[a_{0}, a_{1}, \\dots, a_{n-1}]$"
      ],
      "metadata": {
        "id": "V7poYJujSoqF"
      }
    },
    {
      "cell_type": "code",
      "source": [
        "L = [1, 2, 3, 4, 5]\n",
        "\n",
        "M = [6, 7, 8, 9 , 10]\n",
        "\n",
        "N = [11, 12, 13]\n",
        "\n",
        "print(L)\n",
        "print(M)  # me muestra el resultado\n",
        "print(N)"
      ],
      "metadata": {
        "colab": {
          "base_uri": "https://localhost:8080/"
        },
        "id": "rMxqQX4SSW4t",
        "outputId": "e0acce92-4e13-44ae-fbe8-f43acc218075"
      },
      "execution_count": 4,
      "outputs": [
        {
          "output_type": "stream",
          "name": "stdout",
          "text": [
            "[1, 2, 3, 4, 5]\n",
            "[6, 7, 8, 9, 10]\n",
            "[11, 12, 13]\n"
          ]
        }
      ]
    },
    {
      "cell_type": "code",
      "source": [
        "type(L)"
      ],
      "metadata": {
        "id": "Zw1hYNaqTAwy",
        "outputId": "73130a3c-ebd8-409e-de52-7553b8f5a986",
        "colab": {
          "base_uri": "https://localhost:8080/"
        }
      },
      "execution_count": 5,
      "outputs": [
        {
          "output_type": "execute_result",
          "data": {
            "text/plain": [
              "list"
            ]
          },
          "metadata": {},
          "execution_count": 5
        }
      ]
    },
    {
      "cell_type": "code",
      "source": [
        "L_set = set(L)\n",
        "\n",
        "L_set"
      ],
      "metadata": {
        "colab": {
          "base_uri": "https://localhost:8080/"
        },
        "id": "PrOqz_EkgzZo",
        "outputId": "8c9129b3-60b9-4eea-a8e3-d7cdfb31189c"
      },
      "execution_count": 6,
      "outputs": [
        {
          "output_type": "execute_result",
          "data": {
            "text/plain": [
              "{1, 2, 3, 4, 5}"
            ]
          },
          "metadata": {},
          "execution_count": 6
        }
      ]
    },
    {
      "cell_type": "code",
      "source": [
        "L_lista = list(L_set)\n",
        "L_lista"
      ],
      "metadata": {
        "colab": {
          "base_uri": "https://localhost:8080/"
        },
        "id": "odNKcoujeWBS",
        "outputId": "407ed7ca-f86c-48a4-b5b7-0000057715c9"
      },
      "execution_count": 7,
      "outputs": [
        {
          "output_type": "execute_result",
          "data": {
            "text/plain": [
              "[1, 2, 3, 4, 5]"
            ]
          },
          "metadata": {},
          "execution_count": 7
        }
      ]
    },
    {
      "cell_type": "code",
      "source": [
        "L + M # concatena (no realiza operaciones vectoriales)."
      ],
      "metadata": {
        "colab": {
          "base_uri": "https://localhost:8080/"
        },
        "id": "ty7z2IXFhO1N",
        "outputId": "01e68532-79f0-4869-a445-eaab6f97d4a5"
      },
      "execution_count": 8,
      "outputs": [
        {
          "output_type": "execute_result",
          "data": {
            "text/plain": [
              "[1, 2, 3, 4, 5, 6, 7, 8, 9, 10]"
            ]
          },
          "metadata": {},
          "execution_count": 8
        }
      ]
    },
    {
      "cell_type": "code",
      "source": [
        "L + M + N"
      ],
      "metadata": {
        "colab": {
          "base_uri": "https://localhost:8080/"
        },
        "id": "KGyV18pje0dm",
        "outputId": "182db8e9-428b-4cdd-9f51-a7e4d1188d2d"
      },
      "execution_count": 9,
      "outputs": [
        {
          "output_type": "execute_result",
          "data": {
            "text/plain": [
              "[1, 2, 3, 4, 5, 6, 7, 8, 9, 10, 11, 12, 13]"
            ]
          },
          "metadata": {},
          "execution_count": 9
        }
      ]
    },
    {
      "cell_type": "markdown",
      "source": [
        "### NumPy"
      ],
      "metadata": {
        "id": "cHpWBMkijawY"
      }
    },
    {
      "cell_type": "markdown",
      "source": [
        "- Un vector = arreglo 1D en Python\n",
        "- Una matriz = arreglo 2D en Python"
      ],
      "metadata": {
        "id": "qTF0vi9alcXr"
      }
    },
    {
      "cell_type": "code",
      "source": [
        "import numpy as np"
      ],
      "metadata": {
        "id": "cM1VQWLvjO6z"
      },
      "execution_count": 10,
      "outputs": []
    },
    {
      "cell_type": "code",
      "source": [
        "L_vector = np.array(L) # Convertir una lista en un vector. La funcion np.array, es la que te termina haciendo la operacion para el proceso.\n",
        "\n",
        "L_vector"
      ],
      "metadata": {
        "colab": {
          "base_uri": "https://localhost:8080/"
        },
        "id": "ZAl3bdrqlzCq",
        "outputId": "bc438dd6-9ccb-49cb-dce9-11a2f800aec3"
      },
      "execution_count": 11,
      "outputs": [
        {
          "output_type": "execute_result",
          "data": {
            "text/plain": [
              "array([1, 2, 3, 4, 5])"
            ]
          },
          "metadata": {},
          "execution_count": 11
        }
      ]
    },
    {
      "cell_type": "code",
      "source": [
        "type(L_vector)"
      ],
      "metadata": {
        "colab": {
          "base_uri": "https://localhost:8080/"
        },
        "id": "JcKmNPCqdK-U",
        "outputId": "9bf4751a-385a-4cf8-8f6b-9e212f0bf813"
      },
      "execution_count": 12,
      "outputs": [
        {
          "output_type": "execute_result",
          "data": {
            "text/plain": [
              "numpy.ndarray"
            ]
          },
          "metadata": {},
          "execution_count": 12
        }
      ]
    },
    {
      "cell_type": "code",
      "source": [
        "# Aqui se hace conversiones de listas a vectores.\n",
        "M_vector = np.array(M)\n",
        "\n",
        "N_vector = np.array(N)\n",
        "\n",
        "print(M_vector)\n",
        "print(N_vector)"
      ],
      "metadata": {
        "colab": {
          "base_uri": "https://localhost:8080/"
        },
        "id": "B7c2SQ3DmSkL",
        "outputId": "ebba2dcb-fa84-45ab-d242-48567022931c"
      },
      "execution_count": 13,
      "outputs": [
        {
          "output_type": "stream",
          "name": "stdout",
          "text": [
            "[ 6  7  8  9 10]\n",
            "[11 12 13]\n"
          ]
        }
      ]
    },
    {
      "cell_type": "code",
      "source": [
        "# Aqui son el numero de elementos que tiene cada vector\n",
        "len(L_vector), len(M_vector), len(N_vector)"
      ],
      "metadata": {
        "colab": {
          "base_uri": "https://localhost:8080/"
        },
        "id": "qWXPx9wHnVrV",
        "outputId": "b1df9f13-48c7-48b3-9c9d-e65e2ce1dd97"
      },
      "execution_count": 14,
      "outputs": [
        {
          "output_type": "execute_result",
          "data": {
            "text/plain": [
              "(5, 5, 3)"
            ]
          },
          "metadata": {},
          "execution_count": 14
        }
      ]
    },
    {
      "cell_type": "markdown",
      "source": [
        "# gracias a esto, ya podemos sumar vectores.\n"
      ],
      "metadata": {
        "id": "MUhEAFGynp3Q"
      }
    },
    {
      "cell_type": "code",
      "source": [
        "L_vector + M_vector # suma vectorial"
      ],
      "metadata": {
        "colab": {
          "base_uri": "https://localhost:8080/"
        },
        "id": "FivOuxE5oClc",
        "outputId": "6ac660fa-52d0-4a97-8828-7e7d786bc624"
      },
      "execution_count": 15,
      "outputs": [
        {
          "output_type": "execute_result",
          "data": {
            "text/plain": [
              "array([ 7,  9, 11, 13, 15])"
            ]
          },
          "metadata": {},
          "execution_count": 15
        }
      ]
    },
    {
      "cell_type": "markdown",
      "source": [
        "## Creando matrices con NumPy: El método `solve( , )`\n"
      ],
      "metadata": {
        "id": "Oq29FUQwQk4k"
      }
    },
    {
      "cell_type": "markdown",
      "source": [
        "\n",
        "\n",
        "Un cine vende boletos para adultos y para niños. Un boleto para adultos cuesta \\$100, y un boleto para niños cuesta \\$50. En una función, se vendieron un total de 120 boletos y se recaudaron \\$8,000. ¿Cuántos boletos de cada tipo se vendieron?\n",
        "\n",
        "{Planteamiento del sistema de ecuaciones}\n",
        "\n",
        "Sea \\(x\\) el número de boletos para adultos y \\(y\\) el número de boletos para niños.\n",
        "\n",
        "\n",
        "La primera ecuación se basa en el total de boletos vendidos:\n",
        "    \\[\n",
        "    x + y = 120\n",
        "    \\]\n",
        "    La segunda ecuación se basa en el total de dinero recaudado:\n",
        "    \\[\n",
        "    100x + 50y = 8000\n",
        "    \\]\n",
        "\n",
        "\n",
        "\\[\n",
        "\\begin{aligned}\n",
        "1. & \\quad x + y = 120 \\\\\n",
        "2. & \\quad 100x + 50y = 8000\n",
        "\\end{aligned}\n",
        "\\]\n"
      ],
      "metadata": {
        "id": "fhflYvzIqwui"
      }
    },
    {
      "cell_type": "markdown",
      "source": [
        "#vamos a resolver este problema usando numpy"
      ],
      "metadata": {
        "id": "wlYPzEgsrEub"
      }
    },
    {
      "cell_type": "code",
      "source": [
        "#escribimos la matriz asociada al sistema de ecuaciones\n",
        "A = np.array([1, 1, 100, 50]).reshape((2,2)) #el reshape, va a convertir esta matriz en una de 2x2\n",
        "A"
      ],
      "metadata": {
        "id": "Aizg3wSfovh3",
        "colab": {
          "base_uri": "https://localhost:8080/"
        },
        "outputId": "c59440ff-d475-46b6-906a-e57b3ff919b9"
      },
      "execution_count": 16,
      "outputs": [
        {
          "output_type": "execute_result",
          "data": {
            "text/plain": [
              "array([[  1,   1],\n",
              "       [100,  50]])"
            ]
          },
          "metadata": {},
          "execution_count": 16
        }
      ]
    },
    {
      "cell_type": "code",
      "source": [
        "B = np.array([200,2400])"
      ],
      "metadata": {
        "id": "Dlk3EOZSR7Q_"
      },
      "execution_count": 17,
      "outputs": []
    },
    {
      "cell_type": "markdown",
      "source": [
        "$$AX=B$$"
      ],
      "metadata": {
        "id": "2-ZBA4T2SmfG"
      }
    },
    {
      "cell_type": "markdown",
      "source": [
        "#numpy tiene una sublibreria que se llama linalg en donde se pueden resolver sistemas de ecuaciones"
      ],
      "metadata": {
        "id": "_mxmRtxjtGAL"
      }
    },
    {
      "cell_type": "code",
      "source": [
        "#la funcion solve, resuleve el sistema de ecuaciones\n",
        "X = np.linalg.solve(A,B)\n",
        "\n",
        "X"
      ],
      "metadata": {
        "colab": {
          "base_uri": "https://localhost:8080/"
        },
        "id": "a7M19yRISlxU",
        "outputId": "da742b77-a25b-4c56-92c4-e02d062ce5f6"
      },
      "execution_count": 18,
      "outputs": [
        {
          "output_type": "execute_result",
          "data": {
            "text/plain": [
              "array([-152.,  352.])"
            ]
          },
          "metadata": {},
          "execution_count": 18
        }
      ]
    },
    {
      "cell_type": "markdown",
      "source": [
        "La solucion al sistema de ecuaciones es:\n",
        "x=-152\n",
        "y=352"
      ],
      "metadata": {
        "id": "A6WUSVBLtX4g"
      }
    }
  ]
}